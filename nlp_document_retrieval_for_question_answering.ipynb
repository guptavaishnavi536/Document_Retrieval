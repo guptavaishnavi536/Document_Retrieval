{
  "cells": [
    {
      "cell_type": "markdown",
      "metadata": {
        "id": "view-in-github",
        "colab_type": "text"
      },
      "source": [
        "<a href=\"https://colab.research.google.com/github/guptavaishnavi536/Document_Retrieval/blob/main/nlp_document_retrieval_for_question_answering.ipynb\" target=\"_parent\"><img src=\"https://colab.research.google.com/assets/colab-badge.svg\" alt=\"Open In Colab\"/></a>"
      ]
    },
    {
      "cell_type": "markdown",
      "id": "76248be9",
      "metadata": {
        "papermill": {
          "duration": 0.035371,
          "end_time": "2022-05-24T01:38:33.191544",
          "exception": false,
          "start_time": "2022-05-24T01:38:33.156173",
          "status": "completed"
        },
        "tags": [],
        "id": "76248be9"
      },
      "source": [
        "<a id='top'></a>\n",
        "# NLP - Document Retrieval for Question Answering\n",
        "\n",
        "\n",
        "Question answering (QA) is a task that answers user's questions using a large collection of documents; it consists of two steps: (1) sort possible documents that contain the answer of a given question; and (2) extract the content from these documents and elaborate an answer to the user. For this project, we have explored techniques for identify the most similar document for a question, problem called _Document Retrieval_.\n",
        "\n",
        "**Statement**: Given a question, the document retriever have to return the most likely $k$ documents that contain the answer to the question.\n",
        "\n",
        "The dataset used for this project is the [Stanford Question Answering Dataset](https://www.kaggle.com/datasets/stanfordu/stanford-question-answering-dataset).\n",
        "   \n",
        "\n",
        "\n",
        "![image](https://qa.fastforwardlabs.com/images/copied_from_nb/my_icons/QAworkflow.png)\n",
        "_Image from [Intro to Automated Question Answering](https://qa.fastforwardlabs.com/methods/background/2020/04/28/Intro-to-QA.html)._"
      ]
    },
    {
      "cell_type": "code",
      "execution_count": null,
      "id": "08ef4d7f",
      "metadata": {
        "_kg_hide-input": true,
        "execution": {
          "iopub.execute_input": "2022-05-24T01:38:33.261671Z",
          "iopub.status.busy": "2022-05-24T01:38:33.261081Z",
          "iopub.status.idle": "2022-05-24T01:39:05.210945Z",
          "shell.execute_reply": "2022-05-24T01:39:05.210010Z"
        },
        "papermill": {
          "duration": 31.98778,
          "end_time": "2022-05-24T01:39:05.213404",
          "exception": false,
          "start_time": "2022-05-24T01:38:33.225624",
          "status": "completed"
        },
        "tags": [],
        "id": "08ef4d7f"
      },
      "outputs": [],
      "source": [
        "%%capture\n",
        "!pip install wikipedia==1.4.0\n",
        "!pip install scikit-learn==1.0.2\n",
        "!pip install gensim==4.0.1"
      ]
    },
    {
      "cell_type": "markdown",
      "id": "3c717ebd",
      "metadata": {
        "papermill": {
          "duration": 0.032994,
          "end_time": "2022-05-24T01:39:05.280368",
          "exception": false,
          "start_time": "2022-05-24T01:39:05.247374",
          "status": "completed"
        },
        "tags": [],
        "id": "3c717ebd"
      },
      "source": [
        "## What do we want to do?\n",
        "\n",
        "We want to create a Document Retrieval, like a search tool, such as Wikipedia. Let's explore the `wikipedia` library, to see the retriever in action."
      ]
    },
    {
      "cell_type": "code",
      "execution_count": null,
      "id": "02bdce4c",
      "metadata": {
        "execution": {
          "iopub.execute_input": "2022-05-24T01:39:05.349805Z",
          "iopub.status.busy": "2022-05-24T01:39:05.349509Z",
          "iopub.status.idle": "2022-05-24T01:39:06.426742Z",
          "shell.execute_reply": "2022-05-24T01:39:06.425660Z"
        },
        "papermill": {
          "duration": 1.113949,
          "end_time": "2022-05-24T01:39:06.428679",
          "exception": false,
          "start_time": "2022-05-24T01:39:05.314730",
          "status": "completed"
        },
        "tags": [],
        "colab": {
          "base_uri": "https://localhost:8080/"
        },
        "id": "02bdce4c",
        "outputId": "8b6ad618-5797-42ca-ddfe-1522f2152388"
      },
      "outputs": [
        {
          "output_type": "stream",
          "name": "stdout",
          "text": [
            "Question: What are the tourist hotspots in Portugal?\n",
            "Pages:   ['Tourist attraction', 'Portugal', 'Algarve']\n"
          ]
        }
      ],
      "source": [
        "import wikipedia as wiki\n",
        "\n",
        "k = 3\n",
        "question = \"What are the tourist hotspots in Portugal?\"\n",
        "\n",
        "results = wiki.search(question, results=k)\n",
        "print('Question:', question)\n",
        "print('Pages:  ', results)"
      ]
    },
    {
      "cell_type": "markdown",
      "id": "d36ae497",
      "metadata": {
        "papermill": {
          "duration": 0.032788,
          "end_time": "2022-05-24T01:39:06.495652",
          "exception": false,
          "start_time": "2022-05-24T01:39:06.462864",
          "status": "completed"
        },
        "tags": [],
        "id": "d36ae497"
      },
      "source": [
        "### Discussion\n",
        "\n",
        "For this question, Wikipedia's Document Retrieval returned the 5 most likely pages that contain the answer to the question."
      ]
    },
    {
      "cell_type": "markdown",
      "id": "b35ca173",
      "metadata": {
        "papermill": {
          "duration": 0.033523,
          "end_time": "2022-05-24T01:39:06.562957",
          "exception": false,
          "start_time": "2022-05-24T01:39:06.529434",
          "status": "completed"
        },
        "tags": [],
        "id": "b35ca173"
      },
      "source": [
        "<a id=\"data\"></a>\n",
        "\n",
        "---\n",
        "# Data Exploration\n",
        "\n",
        "In this section, we are going to load a `json` file into a `pandas.DataFrame`. At last, elaborate our list of documents.\n",
        "\n",
        "[Back to Top](#top)"
      ]
    },
    {
      "cell_type": "code",
      "execution_count": null,
      "id": "e916d726",
      "metadata": {
        "execution": {
          "iopub.execute_input": "2022-05-24T01:39:06.632363Z",
          "iopub.status.busy": "2022-05-24T01:39:06.631803Z",
          "iopub.status.idle": "2022-05-24T01:39:06.635827Z",
          "shell.execute_reply": "2022-05-24T01:39:06.634992Z"
        },
        "papermill": {
          "duration": 0.041007,
          "end_time": "2022-05-24T01:39:06.637852",
          "exception": false,
          "start_time": "2022-05-24T01:39:06.596845",
          "status": "completed"
        },
        "tags": [],
        "colab": {
          "base_uri": "https://localhost:8080/"
        },
        "id": "e916d726",
        "outputId": "6e492a86-8487-4426-9865-4aee2e57d3f7"
      },
      "outputs": [
        {
          "output_type": "stream",
          "name": "stdout",
          "text": [
            "Looking in indexes: https://pypi.org/simple, https://us-python.pkg.dev/colab-wheels/public/simple/\n",
            "Collecting opendatasets\n",
            "  Downloading opendatasets-0.1.22-py3-none-any.whl (15 kB)\n",
            "Requirement already satisfied: kaggle in /usr/local/lib/python3.9/dist-packages (from opendatasets) (1.5.13)\n",
            "Requirement already satisfied: click in /usr/local/lib/python3.9/dist-packages (from opendatasets) (8.1.3)\n",
            "Requirement already satisfied: tqdm in /usr/local/lib/python3.9/dist-packages (from opendatasets) (4.65.0)\n",
            "Requirement already satisfied: requests in /usr/local/lib/python3.9/dist-packages (from kaggle->opendatasets) (2.27.1)\n",
            "Requirement already satisfied: python-dateutil in /usr/local/lib/python3.9/dist-packages (from kaggle->opendatasets) (2.8.2)\n",
            "Requirement already satisfied: certifi in /usr/local/lib/python3.9/dist-packages (from kaggle->opendatasets) (2022.12.7)\n",
            "Requirement already satisfied: six>=1.10 in /usr/local/lib/python3.9/dist-packages (from kaggle->opendatasets) (1.16.0)\n",
            "Requirement already satisfied: urllib3 in /usr/local/lib/python3.9/dist-packages (from kaggle->opendatasets) (1.26.15)\n",
            "Requirement already satisfied: python-slugify in /usr/local/lib/python3.9/dist-packages (from kaggle->opendatasets) (8.0.1)\n",
            "Requirement already satisfied: text-unidecode>=1.3 in /usr/local/lib/python3.9/dist-packages (from python-slugify->kaggle->opendatasets) (1.3)\n",
            "Requirement already satisfied: idna<4,>=2.5 in /usr/local/lib/python3.9/dist-packages (from requests->kaggle->opendatasets) (3.4)\n",
            "Requirement already satisfied: charset-normalizer~=2.0.0 in /usr/local/lib/python3.9/dist-packages (from requests->kaggle->opendatasets) (2.0.12)\n",
            "Installing collected packages: opendatasets\n",
            "Successfully installed opendatasets-0.1.22\n"
          ]
        }
      ],
      "source": [
        "import json\n",
        "import numpy as np\n",
        "import pandas as pd\n",
        "!pip install opendatasets"
      ]
    },
    {
      "cell_type": "code",
      "source": [
        "import opendatasets as od\n",
        "import pandas\n",
        "\n",
        "od.download(\n",
        "    \"https://www.kaggle.com/datasets/stanfordu/stanford-question-answering-dataset\")"
      ],
      "metadata": {
        "colab": {
          "base_uri": "https://localhost:8080/"
        },
        "id": "QMOBDbePAYvU",
        "outputId": "7b274d83-0308-4f2c-c1de-466f39b9d993"
      },
      "id": "QMOBDbePAYvU",
      "execution_count": null,
      "outputs": [
        {
          "output_type": "stream",
          "name": "stdout",
          "text": [
            "Please provide your Kaggle credentials to download this dataset. Learn more: http://bit.ly/kaggle-creds\n",
            "Your Kaggle username: vaishnavi536\n",
            "Your Kaggle Key: ··········\n",
            "Downloading stanford-question-answering-dataset.zip to ./stanford-question-answering-dataset\n"
          ]
        },
        {
          "output_type": "stream",
          "name": "stderr",
          "text": [
            "100%|██████████| 8.73M/8.73M [00:00<00:00, 11.3MB/s]\n"
          ]
        },
        {
          "output_type": "stream",
          "name": "stdout",
          "text": [
            "\n"
          ]
        }
      ]
    },
    {
      "cell_type": "code",
      "execution_count": null,
      "id": "6490817d",
      "metadata": {
        "_cell_guid": "b1076dfc-b9ad-4769-8c92-a6c4dae69d19",
        "_kg_hide-input": true,
        "_uuid": "8f2839f25d086af736a60e9eeb907d3b93b6e0e5",
        "execution": {
          "iopub.execute_input": "2022-05-24T01:39:06.707357Z",
          "iopub.status.busy": "2022-05-24T01:39:06.706685Z",
          "iopub.status.idle": "2022-05-24T01:39:06.715866Z",
          "shell.execute_reply": "2022-05-24T01:39:06.714780Z"
        },
        "papermill": {
          "duration": 0.046043,
          "end_time": "2022-05-24T01:39:06.717897",
          "exception": false,
          "start_time": "2022-05-24T01:39:06.671854",
          "status": "completed"
        },
        "tags": [],
        "colab": {
          "base_uri": "https://localhost:8080/"
        },
        "id": "6490817d",
        "outputId": "f66a61e4-74f6-47db-f056-f5e443ca15f9"
      },
      "outputs": [
        {
          "output_type": "stream",
          "name": "stdout",
          "text": [
            "/content/stanford-question-answering-dataset/train-v1.1.json\n",
            "/content/stanford-question-answering-dataset/dev-v1.1.json\n"
          ]
        }
      ],
      "source": [
        "import os\n",
        "\n",
        "# list the available data\n",
        "for dirname, _, filenames in os.walk('/content/stanford-question-answering-dataset'):\n",
        "    for filename in filenames:\n",
        "        print(os.path.join(dirname, filename))"
      ]
    },
    {
      "cell_type": "code",
      "execution_count": null,
      "id": "9a43095e",
      "metadata": {
        "_kg_hide-input": true,
        "execution": {
          "iopub.execute_input": "2022-05-24T01:39:06.802848Z",
          "iopub.status.busy": "2022-05-24T01:39:06.802264Z",
          "iopub.status.idle": "2022-05-24T01:39:06.813968Z",
          "shell.execute_reply": "2022-05-24T01:39:06.813034Z"
        },
        "papermill": {
          "duration": 0.058688,
          "end_time": "2022-05-24T01:39:06.816116",
          "exception": false,
          "start_time": "2022-05-24T01:39:06.757428",
          "status": "completed"
        },
        "tags": [],
        "id": "9a43095e"
      },
      "outputs": [],
      "source": [
        "# based on: https://www.kaggle.com/code/sanjay11100/squad-stanford-q-a-json-to-pandas-dataframe\n",
        "def squad_json_to_dataframe(file_path, record_path=['data','paragraphs','qas','answers']):\n",
        "    \"\"\"\n",
        "    input_file_path: path to the squad json file.\n",
        "    record_path: path to deepest level in json file default value is\n",
        "    ['data','paragraphs','qas','answers']\n",
        "    \"\"\"\n",
        "    file = json.loads(open(file_path).read())\n",
        "    # parsing different level's in the json file\n",
        "    js = pd.json_normalize(file, record_path)\n",
        "    m = pd.json_normalize(file, record_path[:-1])\n",
        "    r = pd.json_normalize(file,record_path[:-2])\n",
        "    # combining it into single dataframe\n",
        "    idx = np.repeat(r['context'].values, r.qas.str.len())\n",
        "    m['context'] = idx\n",
        "    data = m[['id','question','context','answers']].set_index('id').reset_index()\n",
        "    data['c_id'] = data['context'].factorize()[0]\n",
        "    return data"
      ]
    },
    {
      "cell_type": "code",
      "execution_count": null,
      "id": "47d63253",
      "metadata": {
        "execution": {
          "iopub.execute_input": "2022-05-24T01:39:06.886896Z",
          "iopub.status.busy": "2022-05-24T01:39:06.886417Z",
          "iopub.status.idle": "2022-05-24T01:39:12.826507Z",
          "shell.execute_reply": "2022-05-24T01:39:12.825662Z"
        },
        "papermill": {
          "duration": 5.97824,
          "end_time": "2022-05-24T01:39:12.829268",
          "exception": false,
          "start_time": "2022-05-24T01:39:06.851028",
          "status": "completed"
        },
        "tags": [],
        "colab": {
          "base_uri": "https://localhost:8080/",
          "height": 423
        },
        "id": "47d63253",
        "outputId": "ecffd1a6-3926-4cb1-b0ee-cf1206dc8abb"
      },
      "outputs": [
        {
          "output_type": "execute_result",
          "data": {
            "text/plain": [
              "                             id  \\\n",
              "0      5733be284776f41900661182   \n",
              "1      5733be284776f4190066117f   \n",
              "2      5733be284776f41900661180   \n",
              "3      5733be284776f41900661181   \n",
              "4      5733be284776f4190066117e   \n",
              "...                         ...   \n",
              "87594  5735d259012e2f140011a09d   \n",
              "87595  5735d259012e2f140011a09e   \n",
              "87596  5735d259012e2f140011a09f   \n",
              "87597  5735d259012e2f140011a0a0   \n",
              "87598  5735d259012e2f140011a0a1   \n",
              "\n",
              "                                                question  \\\n",
              "0      To whom did the Virgin Mary allegedly appear i...   \n",
              "1      What is in front of the Notre Dame Main Building?   \n",
              "2      The Basilica of the Sacred heart at Notre Dame...   \n",
              "3                      What is the Grotto at Notre Dame?   \n",
              "4      What sits on top of the Main Building at Notre...   \n",
              "...                                                  ...   \n",
              "87594  In what US state did Kathmandu first establish...   \n",
              "87595               What was Yangon previously known as?   \n",
              "87596  With what Belorussian city does Kathmandu have...   \n",
              "87597  In what year did Kathmandu create its initial ...   \n",
              "87598                      What is KMC an initialism of?   \n",
              "\n",
              "                                                 context  \\\n",
              "0      Architecturally, the school has a Catholic cha...   \n",
              "1      Architecturally, the school has a Catholic cha...   \n",
              "2      Architecturally, the school has a Catholic cha...   \n",
              "3      Architecturally, the school has a Catholic cha...   \n",
              "4      Architecturally, the school has a Catholic cha...   \n",
              "...                                                  ...   \n",
              "87594  Kathmandu Metropolitan City (KMC), in order to...   \n",
              "87595  Kathmandu Metropolitan City (KMC), in order to...   \n",
              "87596  Kathmandu Metropolitan City (KMC), in order to...   \n",
              "87597  Kathmandu Metropolitan City (KMC), in order to...   \n",
              "87598  Kathmandu Metropolitan City (KMC), in order to...   \n",
              "\n",
              "                                                 answers   c_id  \n",
              "0      [{'answer_start': 515, 'text': 'Saint Bernadet...      0  \n",
              "1      [{'answer_start': 188, 'text': 'a copper statu...      0  \n",
              "2      [{'answer_start': 279, 'text': 'the Main Build...      0  \n",
              "3      [{'answer_start': 381, 'text': 'a Marian place...      0  \n",
              "4      [{'answer_start': 92, 'text': 'a golden statue...      0  \n",
              "...                                                  ...    ...  \n",
              "87594          [{'answer_start': 229, 'text': 'Oregon'}]  18890  \n",
              "87595         [{'answer_start': 414, 'text': 'Rangoon'}]  18890  \n",
              "87596           [{'answer_start': 476, 'text': 'Minsk'}]  18890  \n",
              "87597            [{'answer_start': 199, 'text': '1975'}]  18890  \n",
              "87598  [{'answer_start': 0, 'text': 'Kathmandu Metrop...  18890  \n",
              "\n",
              "[87599 rows x 5 columns]"
            ],
            "text/html": [
              "\n",
              "  <div id=\"df-5e6134c9-930f-4e67-8bac-c215043896f3\">\n",
              "    <div class=\"colab-df-container\">\n",
              "      <div>\n",
              "<style scoped>\n",
              "    .dataframe tbody tr th:only-of-type {\n",
              "        vertical-align: middle;\n",
              "    }\n",
              "\n",
              "    .dataframe tbody tr th {\n",
              "        vertical-align: top;\n",
              "    }\n",
              "\n",
              "    .dataframe thead th {\n",
              "        text-align: right;\n",
              "    }\n",
              "</style>\n",
              "<table border=\"1\" class=\"dataframe\">\n",
              "  <thead>\n",
              "    <tr style=\"text-align: right;\">\n",
              "      <th></th>\n",
              "      <th>id</th>\n",
              "      <th>question</th>\n",
              "      <th>context</th>\n",
              "      <th>answers</th>\n",
              "      <th>c_id</th>\n",
              "    </tr>\n",
              "  </thead>\n",
              "  <tbody>\n",
              "    <tr>\n",
              "      <th>0</th>\n",
              "      <td>5733be284776f41900661182</td>\n",
              "      <td>To whom did the Virgin Mary allegedly appear i...</td>\n",
              "      <td>Architecturally, the school has a Catholic cha...</td>\n",
              "      <td>[{'answer_start': 515, 'text': 'Saint Bernadet...</td>\n",
              "      <td>0</td>\n",
              "    </tr>\n",
              "    <tr>\n",
              "      <th>1</th>\n",
              "      <td>5733be284776f4190066117f</td>\n",
              "      <td>What is in front of the Notre Dame Main Building?</td>\n",
              "      <td>Architecturally, the school has a Catholic cha...</td>\n",
              "      <td>[{'answer_start': 188, 'text': 'a copper statu...</td>\n",
              "      <td>0</td>\n",
              "    </tr>\n",
              "    <tr>\n",
              "      <th>2</th>\n",
              "      <td>5733be284776f41900661180</td>\n",
              "      <td>The Basilica of the Sacred heart at Notre Dame...</td>\n",
              "      <td>Architecturally, the school has a Catholic cha...</td>\n",
              "      <td>[{'answer_start': 279, 'text': 'the Main Build...</td>\n",
              "      <td>0</td>\n",
              "    </tr>\n",
              "    <tr>\n",
              "      <th>3</th>\n",
              "      <td>5733be284776f41900661181</td>\n",
              "      <td>What is the Grotto at Notre Dame?</td>\n",
              "      <td>Architecturally, the school has a Catholic cha...</td>\n",
              "      <td>[{'answer_start': 381, 'text': 'a Marian place...</td>\n",
              "      <td>0</td>\n",
              "    </tr>\n",
              "    <tr>\n",
              "      <th>4</th>\n",
              "      <td>5733be284776f4190066117e</td>\n",
              "      <td>What sits on top of the Main Building at Notre...</td>\n",
              "      <td>Architecturally, the school has a Catholic cha...</td>\n",
              "      <td>[{'answer_start': 92, 'text': 'a golden statue...</td>\n",
              "      <td>0</td>\n",
              "    </tr>\n",
              "    <tr>\n",
              "      <th>...</th>\n",
              "      <td>...</td>\n",
              "      <td>...</td>\n",
              "      <td>...</td>\n",
              "      <td>...</td>\n",
              "      <td>...</td>\n",
              "    </tr>\n",
              "    <tr>\n",
              "      <th>87594</th>\n",
              "      <td>5735d259012e2f140011a09d</td>\n",
              "      <td>In what US state did Kathmandu first establish...</td>\n",
              "      <td>Kathmandu Metropolitan City (KMC), in order to...</td>\n",
              "      <td>[{'answer_start': 229, 'text': 'Oregon'}]</td>\n",
              "      <td>18890</td>\n",
              "    </tr>\n",
              "    <tr>\n",
              "      <th>87595</th>\n",
              "      <td>5735d259012e2f140011a09e</td>\n",
              "      <td>What was Yangon previously known as?</td>\n",
              "      <td>Kathmandu Metropolitan City (KMC), in order to...</td>\n",
              "      <td>[{'answer_start': 414, 'text': 'Rangoon'}]</td>\n",
              "      <td>18890</td>\n",
              "    </tr>\n",
              "    <tr>\n",
              "      <th>87596</th>\n",
              "      <td>5735d259012e2f140011a09f</td>\n",
              "      <td>With what Belorussian city does Kathmandu have...</td>\n",
              "      <td>Kathmandu Metropolitan City (KMC), in order to...</td>\n",
              "      <td>[{'answer_start': 476, 'text': 'Minsk'}]</td>\n",
              "      <td>18890</td>\n",
              "    </tr>\n",
              "    <tr>\n",
              "      <th>87597</th>\n",
              "      <td>5735d259012e2f140011a0a0</td>\n",
              "      <td>In what year did Kathmandu create its initial ...</td>\n",
              "      <td>Kathmandu Metropolitan City (KMC), in order to...</td>\n",
              "      <td>[{'answer_start': 199, 'text': '1975'}]</td>\n",
              "      <td>18890</td>\n",
              "    </tr>\n",
              "    <tr>\n",
              "      <th>87598</th>\n",
              "      <td>5735d259012e2f140011a0a1</td>\n",
              "      <td>What is KMC an initialism of?</td>\n",
              "      <td>Kathmandu Metropolitan City (KMC), in order to...</td>\n",
              "      <td>[{'answer_start': 0, 'text': 'Kathmandu Metrop...</td>\n",
              "      <td>18890</td>\n",
              "    </tr>\n",
              "  </tbody>\n",
              "</table>\n",
              "<p>87599 rows × 5 columns</p>\n",
              "</div>\n",
              "      <button class=\"colab-df-convert\" onclick=\"convertToInteractive('df-5e6134c9-930f-4e67-8bac-c215043896f3')\"\n",
              "              title=\"Convert this dataframe to an interactive table.\"\n",
              "              style=\"display:none;\">\n",
              "        \n",
              "  <svg xmlns=\"http://www.w3.org/2000/svg\" height=\"24px\"viewBox=\"0 0 24 24\"\n",
              "       width=\"24px\">\n",
              "    <path d=\"M0 0h24v24H0V0z\" fill=\"none\"/>\n",
              "    <path d=\"M18.56 5.44l.94 2.06.94-2.06 2.06-.94-2.06-.94-.94-2.06-.94 2.06-2.06.94zm-11 1L8.5 8.5l.94-2.06 2.06-.94-2.06-.94L8.5 2.5l-.94 2.06-2.06.94zm10 10l.94 2.06.94-2.06 2.06-.94-2.06-.94-.94-2.06-.94 2.06-2.06.94z\"/><path d=\"M17.41 7.96l-1.37-1.37c-.4-.4-.92-.59-1.43-.59-.52 0-1.04.2-1.43.59L10.3 9.45l-7.72 7.72c-.78.78-.78 2.05 0 2.83L4 21.41c.39.39.9.59 1.41.59.51 0 1.02-.2 1.41-.59l7.78-7.78 2.81-2.81c.8-.78.8-2.07 0-2.86zM5.41 20L4 18.59l7.72-7.72 1.47 1.35L5.41 20z\"/>\n",
              "  </svg>\n",
              "      </button>\n",
              "      \n",
              "  <style>\n",
              "    .colab-df-container {\n",
              "      display:flex;\n",
              "      flex-wrap:wrap;\n",
              "      gap: 12px;\n",
              "    }\n",
              "\n",
              "    .colab-df-convert {\n",
              "      background-color: #E8F0FE;\n",
              "      border: none;\n",
              "      border-radius: 50%;\n",
              "      cursor: pointer;\n",
              "      display: none;\n",
              "      fill: #1967D2;\n",
              "      height: 32px;\n",
              "      padding: 0 0 0 0;\n",
              "      width: 32px;\n",
              "    }\n",
              "\n",
              "    .colab-df-convert:hover {\n",
              "      background-color: #E2EBFA;\n",
              "      box-shadow: 0px 1px 2px rgba(60, 64, 67, 0.3), 0px 1px 3px 1px rgba(60, 64, 67, 0.15);\n",
              "      fill: #174EA6;\n",
              "    }\n",
              "\n",
              "    [theme=dark] .colab-df-convert {\n",
              "      background-color: #3B4455;\n",
              "      fill: #D2E3FC;\n",
              "    }\n",
              "\n",
              "    [theme=dark] .colab-df-convert:hover {\n",
              "      background-color: #434B5C;\n",
              "      box-shadow: 0px 1px 3px 1px rgba(0, 0, 0, 0.15);\n",
              "      filter: drop-shadow(0px 1px 2px rgba(0, 0, 0, 0.3));\n",
              "      fill: #FFFFFF;\n",
              "    }\n",
              "  </style>\n",
              "\n",
              "      <script>\n",
              "        const buttonEl =\n",
              "          document.querySelector('#df-5e6134c9-930f-4e67-8bac-c215043896f3 button.colab-df-convert');\n",
              "        buttonEl.style.display =\n",
              "          google.colab.kernel.accessAllowed ? 'block' : 'none';\n",
              "\n",
              "        async function convertToInteractive(key) {\n",
              "          const element = document.querySelector('#df-5e6134c9-930f-4e67-8bac-c215043896f3');\n",
              "          const dataTable =\n",
              "            await google.colab.kernel.invokeFunction('convertToInteractive',\n",
              "                                                     [key], {});\n",
              "          if (!dataTable) return;\n",
              "\n",
              "          const docLinkHtml = 'Like what you see? Visit the ' +\n",
              "            '<a target=\"_blank\" href=https://colab.research.google.com/notebooks/data_table.ipynb>data table notebook</a>'\n",
              "            + ' to learn more about interactive tables.';\n",
              "          element.innerHTML = '';\n",
              "          dataTable['output_type'] = 'display_data';\n",
              "          await google.colab.output.renderOutput(dataTable, element);\n",
              "          const docLink = document.createElement('div');\n",
              "          docLink.innerHTML = docLinkHtml;\n",
              "          element.appendChild(docLink);\n",
              "        }\n",
              "      </script>\n",
              "    </div>\n",
              "  </div>\n",
              "  "
            ]
          },
          "metadata": {},
          "execution_count": 7
        }
      ],
      "source": [
        "# loading the data\n",
        "file_path = '/content/stanford-question-answering-dataset/train-v1.1.json'\n",
        "data = squad_json_to_dataframe(file_path)\n",
        "data"
      ]
    },
    {
      "cell_type": "code",
      "execution_count": null,
      "id": "bbdbc0e1",
      "metadata": {
        "execution": {
          "iopub.execute_input": "2022-05-24T01:39:12.905318Z",
          "iopub.status.busy": "2022-05-24T01:39:12.904537Z",
          "iopub.status.idle": "2022-05-24T01:39:12.911158Z",
          "shell.execute_reply": "2022-05-24T01:39:12.910416Z"
        },
        "papermill": {
          "duration": 0.045792,
          "end_time": "2022-05-24T01:39:12.913006",
          "exception": false,
          "start_time": "2022-05-24T01:39:12.867214",
          "status": "completed"
        },
        "tags": [],
        "colab": {
          "base_uri": "https://localhost:8080/"
        },
        "id": "bbdbc0e1",
        "outputId": "0f688f77-0c49-4a44-ded8-4d0e6690295d"
      },
      "outputs": [
        {
          "output_type": "execute_result",
          "data": {
            "text/plain": [
              "18891"
            ]
          },
          "metadata": {},
          "execution_count": 8
        }
      ],
      "source": [
        "# how many documents do we have?\n",
        "data['c_id'].unique().size"
      ]
    },
    {
      "cell_type": "markdown",
      "id": "a8c2edcc",
      "metadata": {
        "papermill": {
          "duration": 0.036303,
          "end_time": "2022-05-24T01:39:12.986380",
          "exception": false,
          "start_time": "2022-05-24T01:39:12.950077",
          "status": "completed"
        },
        "tags": [],
        "id": "a8c2edcc"
      },
      "source": [
        "## Get the Unique Documents\n",
        "\n",
        "Let's select the unique documents in our `data`. This will be the list of documents to search for the answers."
      ]
    },
    {
      "cell_type": "code",
      "execution_count": null,
      "id": "c1498f5b",
      "metadata": {
        "execution": {
          "iopub.execute_input": "2022-05-24T01:39:13.062149Z",
          "iopub.status.busy": "2022-05-24T01:39:13.061723Z",
          "iopub.status.idle": "2022-05-24T01:39:13.197512Z",
          "shell.execute_reply": "2022-05-24T01:39:13.196766Z"
        },
        "papermill": {
          "duration": 0.176197,
          "end_time": "2022-05-24T01:39:13.199466",
          "exception": false,
          "start_time": "2022-05-24T01:39:13.023269",
          "status": "completed"
        },
        "tags": [],
        "colab": {
          "base_uri": "https://localhost:8080/",
          "height": 423
        },
        "id": "c1498f5b",
        "outputId": "4492241e-57b2-45b8-cf39-60c975b90ce9"
      },
      "outputs": [
        {
          "output_type": "execute_result",
          "data": {
            "text/plain": [
              "                                                 context   c_id\n",
              "0      Architecturally, the school has a Catholic cha...      0\n",
              "1      As at most other universities, Notre Dame's st...      1\n",
              "2      The university is the major seat of the Congre...      2\n",
              "3      The College of Engineering was established in ...      3\n",
              "4      All of Notre Dame's undergraduate students are...      4\n",
              "...                                                  ...    ...\n",
              "18886  Institute of Medicine, the central college of ...  18886\n",
              "18887  Football and Cricket are the most popular spor...  18887\n",
              "18888  The total length of roads in Nepal is recorded...  18888\n",
              "18889  The main international airport serving Kathman...  18889\n",
              "18890  Kathmandu Metropolitan City (KMC), in order to...  18890\n",
              "\n",
              "[18891 rows x 2 columns]"
            ],
            "text/html": [
              "\n",
              "  <div id=\"df-c81706b4-5a22-46c5-b09c-cd794a203c70\">\n",
              "    <div class=\"colab-df-container\">\n",
              "      <div>\n",
              "<style scoped>\n",
              "    .dataframe tbody tr th:only-of-type {\n",
              "        vertical-align: middle;\n",
              "    }\n",
              "\n",
              "    .dataframe tbody tr th {\n",
              "        vertical-align: top;\n",
              "    }\n",
              "\n",
              "    .dataframe thead th {\n",
              "        text-align: right;\n",
              "    }\n",
              "</style>\n",
              "<table border=\"1\" class=\"dataframe\">\n",
              "  <thead>\n",
              "    <tr style=\"text-align: right;\">\n",
              "      <th></th>\n",
              "      <th>context</th>\n",
              "      <th>c_id</th>\n",
              "    </tr>\n",
              "  </thead>\n",
              "  <tbody>\n",
              "    <tr>\n",
              "      <th>0</th>\n",
              "      <td>Architecturally, the school has a Catholic cha...</td>\n",
              "      <td>0</td>\n",
              "    </tr>\n",
              "    <tr>\n",
              "      <th>1</th>\n",
              "      <td>As at most other universities, Notre Dame's st...</td>\n",
              "      <td>1</td>\n",
              "    </tr>\n",
              "    <tr>\n",
              "      <th>2</th>\n",
              "      <td>The university is the major seat of the Congre...</td>\n",
              "      <td>2</td>\n",
              "    </tr>\n",
              "    <tr>\n",
              "      <th>3</th>\n",
              "      <td>The College of Engineering was established in ...</td>\n",
              "      <td>3</td>\n",
              "    </tr>\n",
              "    <tr>\n",
              "      <th>4</th>\n",
              "      <td>All of Notre Dame's undergraduate students are...</td>\n",
              "      <td>4</td>\n",
              "    </tr>\n",
              "    <tr>\n",
              "      <th>...</th>\n",
              "      <td>...</td>\n",
              "      <td>...</td>\n",
              "    </tr>\n",
              "    <tr>\n",
              "      <th>18886</th>\n",
              "      <td>Institute of Medicine, the central college of ...</td>\n",
              "      <td>18886</td>\n",
              "    </tr>\n",
              "    <tr>\n",
              "      <th>18887</th>\n",
              "      <td>Football and Cricket are the most popular spor...</td>\n",
              "      <td>18887</td>\n",
              "    </tr>\n",
              "    <tr>\n",
              "      <th>18888</th>\n",
              "      <td>The total length of roads in Nepal is recorded...</td>\n",
              "      <td>18888</td>\n",
              "    </tr>\n",
              "    <tr>\n",
              "      <th>18889</th>\n",
              "      <td>The main international airport serving Kathman...</td>\n",
              "      <td>18889</td>\n",
              "    </tr>\n",
              "    <tr>\n",
              "      <th>18890</th>\n",
              "      <td>Kathmandu Metropolitan City (KMC), in order to...</td>\n",
              "      <td>18890</td>\n",
              "    </tr>\n",
              "  </tbody>\n",
              "</table>\n",
              "<p>18891 rows × 2 columns</p>\n",
              "</div>\n",
              "      <button class=\"colab-df-convert\" onclick=\"convertToInteractive('df-c81706b4-5a22-46c5-b09c-cd794a203c70')\"\n",
              "              title=\"Convert this dataframe to an interactive table.\"\n",
              "              style=\"display:none;\">\n",
              "        \n",
              "  <svg xmlns=\"http://www.w3.org/2000/svg\" height=\"24px\"viewBox=\"0 0 24 24\"\n",
              "       width=\"24px\">\n",
              "    <path d=\"M0 0h24v24H0V0z\" fill=\"none\"/>\n",
              "    <path d=\"M18.56 5.44l.94 2.06.94-2.06 2.06-.94-2.06-.94-.94-2.06-.94 2.06-2.06.94zm-11 1L8.5 8.5l.94-2.06 2.06-.94-2.06-.94L8.5 2.5l-.94 2.06-2.06.94zm10 10l.94 2.06.94-2.06 2.06-.94-2.06-.94-.94-2.06-.94 2.06-2.06.94z\"/><path d=\"M17.41 7.96l-1.37-1.37c-.4-.4-.92-.59-1.43-.59-.52 0-1.04.2-1.43.59L10.3 9.45l-7.72 7.72c-.78.78-.78 2.05 0 2.83L4 21.41c.39.39.9.59 1.41.59.51 0 1.02-.2 1.41-.59l7.78-7.78 2.81-2.81c.8-.78.8-2.07 0-2.86zM5.41 20L4 18.59l7.72-7.72 1.47 1.35L5.41 20z\"/>\n",
              "  </svg>\n",
              "      </button>\n",
              "      \n",
              "  <style>\n",
              "    .colab-df-container {\n",
              "      display:flex;\n",
              "      flex-wrap:wrap;\n",
              "      gap: 12px;\n",
              "    }\n",
              "\n",
              "    .colab-df-convert {\n",
              "      background-color: #E8F0FE;\n",
              "      border: none;\n",
              "      border-radius: 50%;\n",
              "      cursor: pointer;\n",
              "      display: none;\n",
              "      fill: #1967D2;\n",
              "      height: 32px;\n",
              "      padding: 0 0 0 0;\n",
              "      width: 32px;\n",
              "    }\n",
              "\n",
              "    .colab-df-convert:hover {\n",
              "      background-color: #E2EBFA;\n",
              "      box-shadow: 0px 1px 2px rgba(60, 64, 67, 0.3), 0px 1px 3px 1px rgba(60, 64, 67, 0.15);\n",
              "      fill: #174EA6;\n",
              "    }\n",
              "\n",
              "    [theme=dark] .colab-df-convert {\n",
              "      background-color: #3B4455;\n",
              "      fill: #D2E3FC;\n",
              "    }\n",
              "\n",
              "    [theme=dark] .colab-df-convert:hover {\n",
              "      background-color: #434B5C;\n",
              "      box-shadow: 0px 1px 3px 1px rgba(0, 0, 0, 0.15);\n",
              "      filter: drop-shadow(0px 1px 2px rgba(0, 0, 0, 0.3));\n",
              "      fill: #FFFFFF;\n",
              "    }\n",
              "  </style>\n",
              "\n",
              "      <script>\n",
              "        const buttonEl =\n",
              "          document.querySelector('#df-c81706b4-5a22-46c5-b09c-cd794a203c70 button.colab-df-convert');\n",
              "        buttonEl.style.display =\n",
              "          google.colab.kernel.accessAllowed ? 'block' : 'none';\n",
              "\n",
              "        async function convertToInteractive(key) {\n",
              "          const element = document.querySelector('#df-c81706b4-5a22-46c5-b09c-cd794a203c70');\n",
              "          const dataTable =\n",
              "            await google.colab.kernel.invokeFunction('convertToInteractive',\n",
              "                                                     [key], {});\n",
              "          if (!dataTable) return;\n",
              "\n",
              "          const docLinkHtml = 'Like what you see? Visit the ' +\n",
              "            '<a target=\"_blank\" href=https://colab.research.google.com/notebooks/data_table.ipynb>data table notebook</a>'\n",
              "            + ' to learn more about interactive tables.';\n",
              "          element.innerHTML = '';\n",
              "          dataTable['output_type'] = 'display_data';\n",
              "          await google.colab.output.renderOutput(dataTable, element);\n",
              "          const docLink = document.createElement('div');\n",
              "          docLink.innerHTML = docLinkHtml;\n",
              "          element.appendChild(docLink);\n",
              "        }\n",
              "      </script>\n",
              "    </div>\n",
              "  </div>\n",
              "  "
            ]
          },
          "metadata": {},
          "execution_count": 9
        }
      ],
      "source": [
        "documents = data[['context', 'c_id']].drop_duplicates().reset_index(drop=True)\n",
        "documents"
      ]
    },
    {
      "cell_type": "markdown",
      "id": "e625854e",
      "metadata": {
        "papermill": {
          "duration": 0.036742,
          "end_time": "2022-05-24T01:39:13.344576",
          "exception": false,
          "start_time": "2022-05-24T01:39:13.307834",
          "status": "completed"
        },
        "tags": [],
        "id": "e625854e"
      },
      "source": [
        "<a id=\"document\"></a>\n",
        "\n",
        "---\n",
        "# Document Retrieval\n",
        "\n",
        "In this section, we are going to explore the techniques to retrieve documents. First, we are going to create our document `vectorizer`. We use this `vectorizer` to encode the documents and the questions into vectors. After, we can search for a question comparing with the document vectors. In the end, the algorithm will return the $k$ most similar document vectors to a question vector.\n"
      ]
    },
    {
      "cell_type": "markdown",
      "id": "8a0fc99f",
      "metadata": {
        "papermill": {
          "duration": 0.03625,
          "end_time": "2022-05-24T01:39:13.417338",
          "exception": false,
          "start_time": "2022-05-24T01:39:13.381088",
          "status": "completed"
        },
        "tags": [],
        "id": "8a0fc99f"
      },
      "source": [
        "## TF-IDF\n",
        "\n",
        "\"In information retrieval, TF-IDF, short for term frequency–inverse document frequency, is a numerical statistic that is intended to reflect how important a word is to a document in a collection or corpus. It is often used as a weighting factor in searches of information retrieval, text mining, and user modeling.\""
      ]
    },
    {
      "cell_type": "code",
      "execution_count": null,
      "id": "5d8dd921",
      "metadata": {
        "execution": {
          "iopub.execute_input": "2022-05-24T01:39:13.490295Z",
          "iopub.status.busy": "2022-05-24T01:39:13.489650Z",
          "iopub.status.idle": "2022-05-24T01:39:14.452245Z",
          "shell.execute_reply": "2022-05-24T01:39:14.451634Z"
        },
        "papermill": {
          "duration": 1.00142,
          "end_time": "2022-05-24T01:39:14.454500",
          "exception": false,
          "start_time": "2022-05-24T01:39:13.453080",
          "status": "completed"
        },
        "tags": [],
        "id": "5d8dd921"
      },
      "outputs": [],
      "source": [
        "from sklearn.feature_extraction.text import TfidfVectorizer\n",
        "from sklearn.neighbors import NearestNeighbors\n",
        "\n",
        "# defining the TF-IDF\n",
        "tfidf_configs = {\n",
        "    'lowercase': True,\n",
        "    'analyzer': 'word',\n",
        "    'stop_words': 'english',\n",
        "    'binary': True,\n",
        "\n",
        "\n",
        "    'max_df': 0.9,\n",
        "    'max_features': 10_000\n",
        "}\n",
        "# defining the number of documents to retrieve\n",
        "retriever_configs = {\n",
        "    'n_neighbors': 3,\n",
        "    'metric': 'cosine'\n",
        "}\n",
        "\n",
        "# defining our pipeline\n",
        "vectorizer = TfidfVectorizer(**tfidf_configs)\n",
        "retriever = NearestNeighbors(**retriever_configs)"
      ]
    },
    {
      "cell_type": "code",
      "execution_count": null,
      "id": "9410d124",
      "metadata": {
        "execution": {
          "iopub.execute_input": "2022-05-24T01:39:14.527060Z",
          "iopub.status.busy": "2022-05-24T01:39:14.526713Z",
          "iopub.status.idle": "2022-05-24T01:39:16.869237Z",
          "shell.execute_reply": "2022-05-24T01:39:16.868528Z"
        },
        "papermill": {
          "duration": 2.380993,
          "end_time": "2022-05-24T01:39:16.871464",
          "exception": false,
          "start_time": "2022-05-24T01:39:14.490471",
          "status": "completed"
        },
        "tags": [],
        "colab": {
          "base_uri": "https://localhost:8080/"
        },
        "id": "9410d124",
        "outputId": "a9389746-d6a1-4b6e-9459-8ab95a9d8b65"
      },
      "outputs": [
        {
          "output_type": "execute_result",
          "data": {
            "text/plain": [
              "NearestNeighbors(metric='cosine', n_neighbors=3)"
            ]
          },
          "metadata": {},
          "execution_count": 11
        }
      ],
      "source": [
        "# let's train the model to retrieve the document id 'c_id'\n",
        "X = vectorizer.fit_transform(documents['context'])\n",
        "retriever.fit(X, documents['c_id'])"
      ]
    },
    {
      "cell_type": "markdown",
      "id": "aa9cd556",
      "metadata": {
        "papermill": {
          "duration": 0.035615,
          "end_time": "2022-05-24T01:39:16.943083",
          "exception": false,
          "start_time": "2022-05-24T01:39:16.907468",
          "status": "completed"
        },
        "tags": [],
        "id": "aa9cd556"
      },
      "source": [
        "Let's test the vectorizer, what information our model is using to extract the vector?"
      ]
    },
    {
      "cell_type": "code",
      "execution_count": null,
      "id": "337db736",
      "metadata": {
        "_kg_hide-input": true,
        "execution": {
          "iopub.execute_input": "2022-05-24T01:39:17.016890Z",
          "iopub.status.busy": "2022-05-24T01:39:17.016656Z",
          "iopub.status.idle": "2022-05-24T01:39:17.021105Z",
          "shell.execute_reply": "2022-05-24T01:39:17.020293Z"
        },
        "papermill": {
          "duration": 0.043992,
          "end_time": "2022-05-24T01:39:17.023101",
          "exception": false,
          "start_time": "2022-05-24T01:39:16.979109",
          "status": "completed"
        },
        "tags": [],
        "id": "337db736"
      },
      "outputs": [],
      "source": [
        "def transform_text(vectorizer, text):\n",
        "    '''\n",
        "    Print the text and the vector[TF-IDF]\n",
        "    vectorizer: sklearn.vectorizer\n",
        "    text: str\n",
        "    '''\n",
        "    print('Text:', text)\n",
        "    vector = vectorizer.transform([text])\n",
        "    vector = vectorizer.inverse_transform(vector)\n",
        "    print('Vect:', vector)"
      ]
    },
    {
      "cell_type": "code",
      "execution_count": null,
      "id": "776bb7db",
      "metadata": {
        "execution": {
          "iopub.execute_input": "2022-05-24T01:39:17.097145Z",
          "iopub.status.busy": "2022-05-24T01:39:17.096791Z",
          "iopub.status.idle": "2022-05-24T01:39:17.108784Z",
          "shell.execute_reply": "2022-05-24T01:39:17.107949Z"
        },
        "papermill": {
          "duration": 0.0514,
          "end_time": "2022-05-24T01:39:17.110768",
          "exception": false,
          "start_time": "2022-05-24T01:39:17.059368",
          "status": "completed"
        },
        "tags": [],
        "colab": {
          "base_uri": "https://localhost:8080/"
        },
        "id": "776bb7db",
        "outputId": "67869b91-42dd-4a64-cce0-c0c32afc121a"
      },
      "outputs": [
        {
          "output_type": "stream",
          "name": "stdout",
          "text": [
            "Text: What are the tourist hotspots in Portugal?\n",
            "Vect: [array(['tourist', 'portugal'], dtype='<U18')]\n"
          ]
        }
      ],
      "source": [
        "# vectorize the question\n",
        "transform_text(vectorizer, question)"
      ]
    },
    {
      "cell_type": "markdown",
      "id": "d2b2a42b",
      "metadata": {
        "papermill": {
          "duration": 0.036505,
          "end_time": "2022-05-24T01:39:17.183605",
          "exception": false,
          "start_time": "2022-05-24T01:39:17.147100",
          "status": "completed"
        },
        "tags": [],
        "id": "d2b2a42b"
      },
      "source": [
        "What is the most similar document to this question?"
      ]
    },
    {
      "cell_type": "code",
      "execution_count": null,
      "id": "5829fd3f",
      "metadata": {
        "execution": {
          "iopub.execute_input": "2022-05-24T01:39:17.258211Z",
          "iopub.status.busy": "2022-05-24T01:39:17.257788Z",
          "iopub.status.idle": "2022-05-24T01:39:17.295037Z",
          "shell.execute_reply": "2022-05-24T01:39:17.294155Z"
        },
        "papermill": {
          "duration": 0.077709,
          "end_time": "2022-05-24T01:39:17.297797",
          "exception": false,
          "start_time": "2022-05-24T01:39:17.220088",
          "status": "completed"
        },
        "tags": [],
        "colab": {
          "base_uri": "https://localhost:8080/"
        },
        "id": "5829fd3f",
        "outputId": "ed799cf3-83a0-40f7-ae16-4d4f2a3a2f34"
      },
      "outputs": [
        {
          "output_type": "stream",
          "name": "stdout",
          "text": [
            "987\n",
            "Text: The two largest metropolitan areas have subway systems: Lisbon Metro and Metro Sul do Tejo in the Lisbon Metropolitan Area and Porto Metro in the Porto Metropolitan Area, each with more than 35 km (22 mi) of lines. In Portugal, Lisbon tram services have been supplied by the Companhia de Carris de Ferro de Lisboa (Carris), for over a century. In Porto, a tram network, of which only a tourist line on the shores of the Douro remain, began construction on 12 September 1895 (a first for the Iberian Peninsula). All major cities and towns have their own local urban transport network, as well as taxi services.\n",
            "Vect: [array(['urban', 'transport', 'towns', 'tourist', 'systems', 'supplied',\n",
            "       'subway', 'shores', 'services', 'september', 'remain', 'portugal',\n",
            "       'porto', 'peninsula', 'network', 'mi', 'metropolitan', 'metro',\n",
            "       'major', 'local', 'lisbon', 'lines', 'line', 'largest', 'km',\n",
            "       'iberian', 'construction', 'cities', 'century', 'began', 'areas',\n",
            "       'area', '35', '22', '1895', '12'], dtype='<U18')]\n"
          ]
        }
      ],
      "source": [
        "# predict the most similar document\n",
        "X = vectorizer.transform([question])\n",
        "c_id = retriever.kneighbors(X, return_distance=False)[0][0]\n",
        "print(c_id)\n",
        "selected = documents.iloc[c_id]['context']\n",
        "# vectorize the document\n",
        "transform_text(vectorizer, selected)"
      ]
    },
    {
      "cell_type": "markdown",
      "id": "086869bc",
      "metadata": {
        "papermill": {
          "duration": 0.03678,
          "end_time": "2022-05-24T01:39:17.372038",
          "exception": false,
          "start_time": "2022-05-24T01:39:17.335258",
          "status": "completed"
        },
        "tags": [],
        "id": "086869bc"
      },
      "source": [
        "### Evaluation"
      ]
    },
    {
      "cell_type": "code",
      "execution_count": null,
      "id": "38919bbf",
      "metadata": {
        "execution": {
          "iopub.execute_input": "2022-05-24T01:39:17.447507Z",
          "iopub.status.busy": "2022-05-24T01:39:17.447180Z",
          "iopub.status.idle": "2022-05-24T01:39:52.925474Z",
          "shell.execute_reply": "2022-05-24T01:39:52.924715Z"
        },
        "papermill": {
          "duration": 35.558011,
          "end_time": "2022-05-24T01:39:52.966400",
          "exception": false,
          "start_time": "2022-05-24T01:39:17.408389",
          "status": "completed"
        },
        "tags": [],
        "colab": {
          "base_uri": "https://localhost:8080/"
        },
        "id": "38919bbf",
        "outputId": "08cc2c06-9159-4d65-8463-0a2176dd1e6a"
      },
      "outputs": [
        {
          "output_type": "stream",
          "name": "stdout",
          "text": [
            "CPU times: user 28 s, sys: 10 s, total: 38 s\n",
            "Wall time: 42.4 s\n"
          ]
        }
      ],
      "source": [
        "%%time\n",
        "# predict one document for each question\n",
        "X = vectorizer.transform(data['question'])\n",
        "y_test = data['c_id']\n",
        "y_pred = retriever.kneighbors(X, return_distance=False)"
      ]
    },
    {
      "cell_type": "code",
      "execution_count": null,
      "id": "46979cfc",
      "metadata": {
        "execution": {
          "iopub.execute_input": "2022-05-24T01:39:53.044092Z",
          "iopub.status.busy": "2022-05-24T01:39:53.043581Z",
          "iopub.status.idle": "2022-05-24T01:39:53.047978Z",
          "shell.execute_reply": "2022-05-24T01:39:53.047438Z"
        },
        "papermill": {
          "duration": 0.044756,
          "end_time": "2022-05-24T01:39:53.049496",
          "exception": false,
          "start_time": "2022-05-24T01:39:53.004740",
          "status": "completed"
        },
        "tags": [],
        "colab": {
          "base_uri": "https://localhost:8080/"
        },
        "id": "46979cfc",
        "outputId": "eb3991e4-486e-4d4a-eed3-fec72a143286"
      },
      "outputs": [
        {
          "output_type": "execute_result",
          "data": {
            "text/plain": [
              "array([[    0,  3694, 10613],\n",
              "       [    7,  1469,     2],\n",
              "       [   38,  1469, 14152],\n",
              "       ...,\n",
              "       [18890, 18884, 18836],\n",
              "       [18890,  3537, 18841],\n",
              "       [    0,     1,     2]])"
            ]
          },
          "metadata": {},
          "execution_count": 16
        }
      ],
      "source": [
        "# top documents predicted for each question\n",
        "y_pred"
      ]
    },
    {
      "cell_type": "code",
      "execution_count": null,
      "id": "426dcebf",
      "metadata": {
        "_kg_hide-input": true,
        "execution": {
          "iopub.execute_input": "2022-05-24T01:39:53.127433Z",
          "iopub.status.busy": "2022-05-24T01:39:53.127010Z",
          "iopub.status.idle": "2022-05-24T01:39:53.131103Z",
          "shell.execute_reply": "2022-05-24T01:39:53.130635Z"
        },
        "papermill": {
          "duration": 0.044668,
          "end_time": "2022-05-24T01:39:53.132674",
          "exception": false,
          "start_time": "2022-05-24T01:39:53.088006",
          "status": "completed"
        },
        "tags": [],
        "id": "426dcebf"
      },
      "outputs": [],
      "source": [
        "def top_accuracy(y_true, y_pred) -> float:\n",
        "    right, count = 0, 0\n",
        "    for y_t in y_true:\n",
        "        count += 1\n",
        "        if y_t in y_pred:\n",
        "            right += 1\n",
        "    return right / count if count > 0 else 0"
      ]
    },
    {
      "cell_type": "code",
      "execution_count": null,
      "id": "3d238bad",
      "metadata": {
        "execution": {
          "iopub.execute_input": "2022-05-24T01:39:53.208465Z",
          "iopub.status.busy": "2022-05-24T01:39:53.208050Z",
          "iopub.status.idle": "2022-05-24T01:40:03.796620Z",
          "shell.execute_reply": "2022-05-24T01:40:03.795706Z"
        },
        "papermill": {
          "duration": 10.629637,
          "end_time": "2022-05-24T01:40:03.799506",
          "exception": false,
          "start_time": "2022-05-24T01:39:53.169869",
          "status": "completed"
        },
        "tags": [],
        "colab": {
          "base_uri": "https://localhost:8080/"
        },
        "id": "3d238bad",
        "outputId": "6369d99e-911d-41fe-fc53-50fe3a779ccc"
      },
      "outputs": [
        {
          "output_type": "stream",
          "name": "stdout",
          "text": [
            "Accuracy: 0.9892\n",
            "Quantity: 86650 from 87599\n"
          ]
        }
      ],
      "source": [
        "acc = top_accuracy(y_test, y_pred)\n",
        "print('Accuracy:', f'{acc:.4f}')\n",
        "print('Quantity:', int(acc*len(y_pred)), 'from', len(y_pred))"
      ]
    },
    {
      "cell_type": "markdown",
      "id": "6b709fc2",
      "metadata": {
        "papermill": {
          "duration": 0.039367,
          "end_time": "2022-05-24T01:40:03.878742",
          "exception": false,
          "start_time": "2022-05-24T01:40:03.839375",
          "status": "completed"
        },
        "tags": [],
        "id": "6b709fc2"
      },
      "source": [
        "\n",
        "1. This is a difficult problem, because we have multiples documents (in this notebook, ~19k documents) and the answer can be in one or more documents. Thus, the retriever usually returns $k$ documents, because it is not complete/fair return only one document.\n",
        "2. We reach a high accuracy with top-3 (98.92%); in top-1 a low accuray (43.22%) becase we have a lot of documents, and some are pretty similar.\n",
        "3. TF-IDF has some problems: (1) this algorithm is only able to compute similarity between questions and documents that present the same words, so it can not capture synonyms; and (2) cannot understand the question context or the meaning of the words."
      ]
    },
    {
      "cell_type": "markdown",
      "id": "9cd8dd1c",
      "metadata": {
        "papermill": {
          "duration": 0.038923,
          "end_time": "2022-05-24T01:40:03.956992",
          "exception": false,
          "start_time": "2022-05-24T01:40:03.918069",
          "status": "completed"
        },
        "tags": [],
        "id": "9cd8dd1c"
      },
      "source": [
        "## Word2Vec / Embedding\n",
        "\n",
        "\"Word2vec is a technique for natural language processing published in 2013. The word2vec algorithm uses a neural network model to learn word associations from a large corpus of text. Once trained, such a model can detect synonymous words or suggest additional words for a partial sentence.\""
      ]
    },
    {
      "cell_type": "code",
      "execution_count": null,
      "id": "58da4437",
      "metadata": {
        "execution": {
          "iopub.execute_input": "2022-05-24T01:40:04.034551Z",
          "iopub.status.busy": "2022-05-24T01:40:04.033909Z",
          "iopub.status.idle": "2022-05-24T01:40:21.736858Z",
          "shell.execute_reply": "2022-05-24T01:40:21.735885Z"
        },
        "papermill": {
          "duration": 17.744284,
          "end_time": "2022-05-24T01:40:21.739244",
          "exception": false,
          "start_time": "2022-05-24T01:40:03.994960",
          "status": "completed"
        },
        "tags": [],
        "id": "58da4437",
        "colab": {
          "base_uri": "https://localhost:8080/"
        },
        "outputId": "dd3fba84-42ac-49dc-efae-c7e6769311be"
      },
      "outputs": [
        {
          "output_type": "stream",
          "name": "stderr",
          "text": [
            "/usr/local/lib/python3.9/dist-packages/gensim/similarities/__init__.py:15: UserWarning: The gensim.similarities.levenshtein submodule is disabled, because the optional Levenshtein package <https://pypi.org/project/python-Levenshtein/> is unavailable. Install Levenhstein (e.g. `pip install python-Levenshtein`) to suppress this warning.\n",
            "  warnings.warn(msg)\n"
          ]
        }
      ],
      "source": [
        "from gensim.parsing.preprocessing import preprocess_string\n",
        "\n",
        "# create a corpus of tokens\n",
        "corpus = documents['context'].tolist()\n",
        "corpus = [preprocess_string(t) for t in corpus]"
      ]
    },
    {
      "cell_type": "code",
      "execution_count": null,
      "id": "9986f419",
      "metadata": {
        "_kg_hide-output": true,
        "execution": {
          "iopub.execute_input": "2022-05-24T01:40:21.817746Z",
          "iopub.status.busy": "2022-05-24T01:40:21.817173Z",
          "iopub.status.idle": "2022-05-24T01:40:31.510863Z",
          "shell.execute_reply": "2022-05-24T01:40:31.510170Z"
        },
        "papermill": {
          "duration": 9.734867,
          "end_time": "2022-05-24T01:40:31.512935",
          "exception": false,
          "start_time": "2022-05-24T01:40:21.778068",
          "status": "completed"
        },
        "tags": [],
        "id": "9986f419"
      },
      "outputs": [],
      "source": [
        "from gensim.models import Word2Vec\n",
        "import gensim.downloader\n",
        "\n",
        "# we can download a pretrained Word2Vec\n",
        "# - or we can train your own model\n",
        "\n",
        "# download a model\n",
        "# vectorizer = gensim.downloader.load('word2vec-ruscorpora-300')\n",
        "\n",
        "# train your own model\n",
        "vectorizer = Word2Vec(sentences=corpus, vector_size=300, window=5, min_count=1, workers=4).wv"
      ]
    },
    {
      "cell_type": "code",
      "execution_count": null,
      "id": "e3b32bd6",
      "metadata": {
        "execution": {
          "iopub.execute_input": "2022-05-24T01:40:31.589600Z",
          "iopub.status.busy": "2022-05-24T01:40:31.589357Z",
          "iopub.status.idle": "2022-05-24T01:40:31.630955Z",
          "shell.execute_reply": "2022-05-24T01:40:31.630118Z"
        },
        "papermill": {
          "duration": 0.082024,
          "end_time": "2022-05-24T01:40:31.633349",
          "exception": false,
          "start_time": "2022-05-24T01:40:31.551325",
          "status": "completed"
        },
        "tags": [],
        "colab": {
          "base_uri": "https://localhost:8080/"
        },
        "id": "e3b32bd6",
        "outputId": "e1c8746f-d600-456d-d26e-1c683d47a2d3"
      },
      "outputs": [
        {
          "output_type": "execute_result",
          "data": {
            "text/plain": [
              "[('destin', 0.9698262214660645),\n",
              " ('visitor', 0.9390003085136414),\n",
              " ('world’', 0.9342949986457825),\n",
              " ('melbourn', 0.9262661337852478),\n",
              " ('philadelphia', 0.92551189661026)]"
            ]
          },
          "metadata": {},
          "execution_count": 21
        }
      ],
      "source": [
        "# similar words to 'tourist'\n",
        "vectorizer.most_similar('tourist', topn=5)"
      ]
    },
    {
      "cell_type": "code",
      "execution_count": null,
      "id": "9d139865",
      "metadata": {
        "_kg_hide-input": true,
        "execution": {
          "iopub.execute_input": "2022-05-24T01:40:31.765820Z",
          "iopub.status.busy": "2022-05-24T01:40:31.765075Z",
          "iopub.status.idle": "2022-05-24T01:40:31.771025Z",
          "shell.execute_reply": "2022-05-24T01:40:31.770540Z"
        },
        "papermill": {
          "duration": 0.071293,
          "end_time": "2022-05-24T01:40:31.772463",
          "exception": false,
          "start_time": "2022-05-24T01:40:31.701170",
          "status": "completed"
        },
        "tags": [],
        "id": "9d139865"
      },
      "outputs": [],
      "source": [
        "def transform_text2(vectorizer, text, verbose=False):\n",
        "    '''\n",
        "    Transform the text in a vector[Word2Vec]\n",
        "    vectorizer: sklearn.vectorizer\n",
        "    text: str\n",
        "    '''\n",
        "    tokens = preprocess_string(text)\n",
        "    words = [vectorizer[w] for w in tokens if w in vectorizer]\n",
        "    if verbose:\n",
        "        print('Text:', text)\n",
        "        print('Vector:', [w for w in tokens if w in vectorizer])\n",
        "    elif len(words):\n",
        "        return np.mean(words, axis=0)\n",
        "    else:\n",
        "        return np.zeros((300), dtype=np.float32)"
      ]
    },
    {
      "cell_type": "code",
      "execution_count": null,
      "id": "44923951",
      "metadata": {
        "execution": {
          "iopub.execute_input": "2022-05-24T01:40:31.852191Z",
          "iopub.status.busy": "2022-05-24T01:40:31.851741Z",
          "iopub.status.idle": "2022-05-24T01:40:31.856540Z",
          "shell.execute_reply": "2022-05-24T01:40:31.855516Z"
        },
        "papermill": {
          "duration": 0.046391,
          "end_time": "2022-05-24T01:40:31.858561",
          "exception": false,
          "start_time": "2022-05-24T01:40:31.812170",
          "status": "completed"
        },
        "tags": [],
        "colab": {
          "base_uri": "https://localhost:8080/"
        },
        "id": "44923951",
        "outputId": "e877180a-01bb-4205-f08e-2c0c18d30425"
      },
      "outputs": [
        {
          "output_type": "stream",
          "name": "stdout",
          "text": [
            "Text: What are the tourist hotspots in Portugal?\n",
            "Vector: ['tourist', 'hotspot', 'portug']\n"
          ]
        }
      ],
      "source": [
        "# just testing our Word2Vec\n",
        "transform_text2(vectorizer, question, verbose=True)"
      ]
    },
    {
      "cell_type": "code",
      "execution_count": null,
      "id": "f3d8792c",
      "metadata": {
        "execution": {
          "iopub.execute_input": "2022-05-24T01:40:31.956257Z",
          "iopub.status.busy": "2022-05-24T01:40:31.955978Z",
          "iopub.status.idle": "2022-05-24T01:40:55.537567Z",
          "shell.execute_reply": "2022-05-24T01:40:55.536744Z"
        },
        "papermill": {
          "duration": 23.636782,
          "end_time": "2022-05-24T01:40:55.539322",
          "exception": false,
          "start_time": "2022-05-24T01:40:31.902540",
          "status": "completed"
        },
        "tags": [],
        "id": "f3d8792c"
      },
      "outputs": [],
      "source": [
        "# let's train the model to retrieve the document id 'c_id'\n",
        "retriever = NearestNeighbors(**retriever_configs)\n",
        "\n"
      ]
    },
    {
      "cell_type": "code",
      "source": [
        "# vectorizer the documents, fit the retriever\n",
        "X = documents['context'].apply(lambda x: transform_text2(vectorizer, x)).tolist()\n",
        "retriever.fit(X, documents['c_id'])"
      ],
      "metadata": {
        "colab": {
          "base_uri": "https://localhost:8080/"
        },
        "id": "VTU9u-vmNggd",
        "outputId": "c39b48e3-6655-45a6-92f9-a598eea80ce3"
      },
      "id": "VTU9u-vmNggd",
      "execution_count": null,
      "outputs": [
        {
          "output_type": "execute_result",
          "data": {
            "text/plain": [
              "NearestNeighbors(metric='cosine', n_neighbors=3)"
            ]
          },
          "metadata": {},
          "execution_count": 25
        }
      ]
    },
    {
      "cell_type": "markdown",
      "id": "21958190",
      "metadata": {
        "papermill": {
          "duration": 0.038671,
          "end_time": "2022-05-24T01:40:55.617099",
          "exception": false,
          "start_time": "2022-05-24T01:40:55.578428",
          "status": "completed"
        },
        "tags": [],
        "id": "21958190"
      },
      "source": [
        "### Evaluation"
      ]
    },
    {
      "cell_type": "code",
      "execution_count": null,
      "id": "f2dee071",
      "metadata": {
        "execution": {
          "iopub.execute_input": "2022-05-24T01:40:55.695259Z",
          "iopub.status.busy": "2022-05-24T01:40:55.694993Z",
          "iopub.status.idle": "2022-05-24T01:41:30.617576Z",
          "shell.execute_reply": "2022-05-24T01:41:30.616671Z"
        },
        "papermill": {
          "duration": 35.00497,
          "end_time": "2022-05-24T01:41:30.660420",
          "exception": false,
          "start_time": "2022-05-24T01:40:55.655450",
          "status": "completed"
        },
        "tags": [],
        "colab": {
          "base_uri": "https://localhost:8080/"
        },
        "id": "f2dee071",
        "outputId": "f97cf914-59ff-4ce0-d70c-d23fc6704866"
      },
      "outputs": [
        {
          "output_type": "stream",
          "name": "stdout",
          "text": [
            "CPU times: user 55.3 s, sys: 4.55 s, total: 59.8 s\n",
            "Wall time: 48.8 s\n"
          ]
        }
      ],
      "source": [
        "%%time\n",
        "# vectorizer the questions\n",
        "X = data['question'].apply(lambda x: transform_text2(vectorizer, x)).tolist()\n",
        "\n",
        "# predict one document for each question\n",
        "y_test = data['c_id']\n",
        "y_pred = retriever.kneighbors(X, return_distance=False)"
      ]
    },
    {
      "cell_type": "code",
      "execution_count": null,
      "id": "a9e3fbcf",
      "metadata": {
        "execution": {
          "iopub.execute_input": "2022-05-24T01:41:30.739372Z",
          "iopub.status.busy": "2022-05-24T01:41:30.739117Z",
          "iopub.status.idle": "2022-05-24T01:41:30.745336Z",
          "shell.execute_reply": "2022-05-24T01:41:30.744459Z"
        },
        "papermill": {
          "duration": 0.048466,
          "end_time": "2022-05-24T01:41:30.747369",
          "exception": false,
          "start_time": "2022-05-24T01:41:30.698903",
          "status": "completed"
        },
        "tags": [],
        "colab": {
          "base_uri": "https://localhost:8080/"
        },
        "id": "a9e3fbcf",
        "outputId": "b8b35ddf-3046-4c69-9cbd-6cbcf7f51b31"
      },
      "outputs": [
        {
          "output_type": "execute_result",
          "data": {
            "text/plain": [
              "array([[ 2637, 18125, 17575],\n",
              "       [ 2424,  7290,  4816],\n",
              "       [10619,  7019,     0],\n",
              "       ...,\n",
              "       [ 7933,  9491,   686],\n",
              "       [ 2844,  1623,  1624],\n",
              "       [13316, 15409, 11381]])"
            ]
          },
          "metadata": {},
          "execution_count": 27
        }
      ],
      "source": [
        "# top documents predicted for each question\n",
        "y_pred"
      ]
    },
    {
      "cell_type": "code",
      "execution_count": null,
      "id": "a0cde52d",
      "metadata": {
        "execution": {
          "iopub.execute_input": "2022-05-24T01:41:30.832252Z",
          "iopub.status.busy": "2022-05-24T01:41:30.831827Z",
          "iopub.status.idle": "2022-05-24T01:41:41.786279Z",
          "shell.execute_reply": "2022-05-24T01:41:41.785297Z"
        },
        "papermill": {
          "duration": 10.998614,
          "end_time": "2022-05-24T01:41:41.788485",
          "exception": false,
          "start_time": "2022-05-24T01:41:30.789871",
          "status": "completed"
        },
        "tags": [],
        "colab": {
          "base_uri": "https://localhost:8080/"
        },
        "id": "a0cde52d",
        "outputId": "b9335d85-a194-43bb-e537-3ab5db6afd2e"
      },
      "outputs": [
        {
          "output_type": "stream",
          "name": "stdout",
          "text": [
            "Accuracy: 0.9711\n",
            "Quantity: 85068 from 87599\n"
          ]
        }
      ],
      "source": [
        "acc = top_accuracy(y_test, y_pred)\n",
        "print('Accuracy:', f'{acc:.4f}')\n",
        "print('Quantity:', int(acc*len(y_pred)), 'from', len(y_pred))"
      ]
    },
    {
      "cell_type": "markdown",
      "id": "59554a9b",
      "metadata": {
        "papermill": {
          "duration": 0.041634,
          "end_time": "2022-05-24T01:41:41.870419",
          "exception": false,
          "start_time": "2022-05-24T01:41:41.828785",
          "status": "completed"
        },
        "tags": [],
        "id": "59554a9b"
      },
      "source": [
        "\n",
        "1. We also reach a good accuracy (97.12%) in top-3; and a really low accuray (3.12%) in top-1. Thus, the TF-IDF was better.\n",
        "2. Maybe, the vectorizer didn't receive enough data to be trained. Thus, pretrained models, like 'word2vec-google-news-300' could be used.\n"
      ]
    },
    {
      "cell_type": "markdown",
      "id": "49d83aa3",
      "metadata": {
        "papermill": {
          "duration": 0.039639,
          "end_time": "2022-05-24T01:41:42.028900",
          "exception": false,
          "start_time": "2022-05-24T01:41:41.989261",
          "status": "completed"
        },
        "tags": [],
        "id": "49d83aa3"
      },
      "source": [
        "\n",
        "---\n",
        "# Conclusion\n",
        "\n",
        "TF-IDF reached a great top-3 accuracy (98.92%) as compared to Word2Vec for this dataset, and it can increases returning more documents. We also have other algorithms to work with Document Retriveal, such as [BM25](https://pypi.org/project/rank-bm25/) and [DPR](https://aclanthology.org/2020.emnlp-main.550/).\n",
        "\n",
        "[Back to Top](#top)\n",
        "\n",
        "## Reference\n",
        "\n",
        "1. [Intro to Automated Question Answering](https://qa.fastforwardlabs.com/methods/background/2020/04/28/Intro-to-QA.html)\n",
        "2. [Building a QA System with BERT on Wikipedia](https://qa.fastforwardlabs.com/pytorch/hugging%20face/wikipedia/bert/transformers/2020/05/19/Getting_Started_with_QA.html)\n",
        "3. [Evaluating QA: Metrics, Predictions, and the Null Response](https://qa.fastforwardlabs.com/no%20answer/null%20threshold/bert/distilbert/exact%20match/f1/robust%20predictions/2020/06/09/Evaluating_BERT_on_SQuAD.html)\n",
        "4. [Dense Passage Retrieval for Open-Domain Question Answering](https://aclanthology.org/2020.emnlp-main.550/)"
      ]
    }
  ],
  "metadata": {
    "kernelspec": {
      "display_name": "Python 3",
      "language": "python",
      "name": "python3"
    },
    "language_info": {
      "codemirror_mode": {
        "name": "ipython",
        "version": 3
      },
      "file_extension": ".py",
      "mimetype": "text/x-python",
      "name": "python",
      "nbconvert_exporter": "python",
      "pygments_lexer": "ipython3",
      "version": "3.7.12"
    },
    "papermill": {
      "default_parameters": {},
      "duration": 198.792122,
      "end_time": "2022-05-24T01:41:43.068616",
      "environment_variables": {},
      "exception": null,
      "input_path": "__notebook__.ipynb",
      "output_path": "__notebook__.ipynb",
      "parameters": {},
      "start_time": "2022-05-24T01:38:24.276494",
      "version": "2.3.4"
    },
    "colab": {
      "provenance": [],
      "include_colab_link": true
    }
  },
  "nbformat": 4,
  "nbformat_minor": 5
}